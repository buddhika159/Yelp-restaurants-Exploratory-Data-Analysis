{
 "cells": [
  {
   "cell_type": "code",
   "execution_count": 30,
   "id": "6d5d8fb0",
   "metadata": {},
   "outputs": [],
   "source": [
    "data = {'Far North Dallas' : [75240, 75243, 75248, 75252, 75254, 75287],\n",
    "'North Dallas' : [75206, 75209, 75220, 75225, 75229, 75230, 75231, 75238, 75240, 75243, 75244, 75248, 75251, 75252, 75254, 75287],\n",
    "'Northeast Dallas' : [75204, 75206, 75214, 75218, 75223, 75226, 75228,75246],\n",
    "'East Dallas' : [75204, 75206, 75214, 75218, 75223, 75226, 75228,75246],\n",
    "'Lakewood' : [75214],\n",
    "'Lowest Greenville' : [75206],\n",
    "'Henderson Avenue' : [75214],\n",
    "'Lower Greenville' : [75204, 75205, 75206],\n",
    "'Upper Greenville' : [75206],\n",
    "'Knox' : [75205, 75206],\n",
    "'Oak Lawn' : [75201, 75204, 75205, 75219, 75235],\n",
    "'Downtown' : [75201, 75202, 75270],\n",
    "'Deep Ellum' : [75226],\n",
    "'Old East Dallas' : [75214, 75204],\n",
    "'Fair Park' : [75230],\n",
    "'Southeast Dallas' : [75241],\n",
    "'Design District' : [75207],\n",
    "'North Oak Cliff' : [75208, 75211],\n",
    "'South Oak Cliff' : [75224, 75232, 75233, 75237],\n",
    "'Northwest Dallas' : [75207, 75220, 75229, 75234, 75235, 75247],\n",
    "'West Dallas' : [75212],\n",
    "'Southwest Dallas' : [75235],\n",
    "'South Dallas' : [75215, 75210, 75227, 75217]}"
   ]
  },
  {
   "cell_type": "code",
   "execution_count": 31,
   "id": "13ff9dfa",
   "metadata": {},
   "outputs": [
    {
     "data": {
      "text/plain": [
       "{'75240': 'North Dallas',\n",
       " '75243': 'North Dallas',\n",
       " '75248': 'North Dallas',\n",
       " '75252': 'North Dallas',\n",
       " '75254': 'North Dallas',\n",
       " '75287': 'North Dallas',\n",
       " '75206': 'Knox',\n",
       " '75209': 'North Dallas',\n",
       " '75220': 'Northwest Dallas',\n",
       " '75225': 'North Dallas',\n",
       " '75229': 'Northwest Dallas',\n",
       " '75230': 'Fair Park',\n",
       " '75231': 'North Dallas',\n",
       " '75238': 'North Dallas',\n",
       " '75244': 'North Dallas',\n",
       " '75251': 'North Dallas',\n",
       " '75204': 'Old East Dallas',\n",
       " '75214': 'Old East Dallas',\n",
       " '75218': 'East Dallas',\n",
       " '75223': 'East Dallas',\n",
       " '75226': 'Deep Ellum',\n",
       " '75228': 'East Dallas',\n",
       " '75246': 'East Dallas',\n",
       " '75205': 'Oak Lawn',\n",
       " '75201': 'Downtown',\n",
       " '75219': 'Oak Lawn',\n",
       " '75235': 'Southwest Dallas',\n",
       " '75202': 'Downtown',\n",
       " '75270': 'Downtown',\n",
       " '75241': 'Southeast Dallas',\n",
       " '75207': 'Northwest Dallas',\n",
       " '75208': 'North Oak Cliff',\n",
       " '75211': 'North Oak Cliff',\n",
       " '75224': 'South Oak Cliff',\n",
       " '75232': 'South Oak Cliff',\n",
       " '75233': 'South Oak Cliff',\n",
       " '75237': 'South Oak Cliff',\n",
       " '75234': 'Northwest Dallas',\n",
       " '75247': 'Northwest Dallas',\n",
       " '75212': 'West Dallas',\n",
       " '75215': 'South Dallas',\n",
       " '75210': 'South Dallas',\n",
       " '75227': 'South Dallas',\n",
       " '75217': 'South Dallas'}"
      ]
     },
     "execution_count": 31,
     "metadata": {},
     "output_type": "execute_result"
    }
   ],
   "source": [
    "dallas_zipcodes = {}\n",
    "for key, value in data.items():\n",
    "    for i in range(len(value)):\n",
    "        dallas_zipcodes.update({str(value[i]) : key})\n",
    "        \n",
    "dallas_zipcodes"
   ]
  },
  {
   "cell_type": "code",
   "execution_count": 32,
   "id": "b0019178",
   "metadata": {},
   "outputs": [
    {
     "data": {
      "text/plain": [
       "44"
      ]
     },
     "execution_count": 32,
     "metadata": {},
     "output_type": "execute_result"
    }
   ],
   "source": [
    "len(dallas_zipcodes)"
   ]
  },
  {
   "cell_type": "code",
   "execution_count": 33,
   "id": "f9c348d1",
   "metadata": {},
   "outputs": [],
   "source": [
    "import json\n",
    "\n",
    "json = json.dumps(dallas_zipcodes)\n",
    "\n",
    "f = open(\"dallas_zipcodes.json\",\"w\")\n",
    "f.write(json)\n",
    "f.close()"
   ]
  },
  {
   "cell_type": "code",
   "execution_count": null,
   "id": "cb1bc1ad",
   "metadata": {},
   "outputs": [],
   "source": []
  }
 ],
 "metadata": {
  "kernelspec": {
   "display_name": "Python 3",
   "language": "python",
   "name": "python3"
  },
  "language_info": {
   "codemirror_mode": {
    "name": "ipython",
    "version": 3
   },
   "file_extension": ".py",
   "mimetype": "text/x-python",
   "name": "python",
   "nbconvert_exporter": "python",
   "pygments_lexer": "ipython3",
   "version": "3.8.8"
  }
 },
 "nbformat": 4,
 "nbformat_minor": 5
}
