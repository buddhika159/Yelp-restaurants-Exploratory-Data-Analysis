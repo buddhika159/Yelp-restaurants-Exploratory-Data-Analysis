{
 "cells": [
  {
   "cell_type": "code",
   "execution_count": 1,
   "id": "07c2db87",
   "metadata": {},
   "outputs": [],
   "source": [
    "import requests\n",
    "\n",
    "%store -r CLIENT_ID\n",
    "%store -r API_KEY\n",
    "\n",
    "ENDPOINT = \"https://api.yelp.com/v3/businesses/search\"\n",
    "\n",
    "HEADERS = {'Authorization': 'bearer %s' % API_KEY}\n",
    "\n",
    "PARAMETERS = {'term': 'restaurants',\n",
    "              'offset': 0,\n",
    "              'limit': 50,\n",
    "              'radius': 40000,\n",
    "              'location': 'Vancouver, BC'}\n",
    "\n",
    "response = requests.get(url=ENDPOINT, params=PARAMETERS, headers=HEADERS)"
   ]
  },
  {
   "cell_type": "code",
   "execution_count": 2,
   "id": "2c37492e",
   "metadata": {},
   "outputs": [
    {
     "data": {
      "text/plain": [
       "<Response [200]>"
      ]
     },
     "execution_count": 2,
     "metadata": {},
     "output_type": "execute_result"
    }
   ],
   "source": [
    "response"
   ]
  },
  {
   "cell_type": "code",
   "execution_count": 3,
   "id": "d56fd67f",
   "metadata": {},
   "outputs": [
    {
     "name": "stdout",
     "output_type": "stream",
     "text": [
      "Restaurant aliases: ['afghani', 'african', 'andalusian'] || Num: 192\n",
      "Restaurant titles: ['Afghan', 'African', 'Andalusian'] || Num: 192\n"
     ]
    }
   ],
   "source": [
    "# open categories json file\n",
    "import json\n",
    "\n",
    "with open('Categories.json') as f:\n",
    "    data = json.load(f)\n",
    "\n",
    "restaurants = [place for place in data if 'restaurants' in place['parents']]\n",
    "restaurant_aliases = [restaurant['alias'] for restaurant in restaurants]\n",
    "restaurant_titles = [restaurant['title'] for restaurant in restaurants]\n",
    "\n",
    "print(\"Restaurant aliases: {} || Num: {}\".format(restaurant_aliases[:3], len(restaurant_aliases)))\n",
    "print(\"Restaurant titles: {} || Num: {}\".format(restaurant_titles[:3], len(restaurant_titles)))"
   ]
  },
  {
   "cell_type": "code",
   "execution_count": 4,
   "id": "cd4f3367",
   "metadata": {},
   "outputs": [
    {
     "name": "stdout",
     "output_type": "stream",
     "text": [
      "afghani: 0-50\n",
      "african: 0-50\n",
      "arabian: 0-50\n",
      "asianfusion: 0-50\n",
      "asianfusion: 50-100\n",
      "asianfusion: 100-150\n",
      "australian: 0-50\n",
      "austrian: 0-50\n",
      "bangladeshi: 0-50\n",
      "bbq: 0-50\n",
      "bbq: 50-100\n",
      "belgian: 0-50\n",
      "bistros: 0-50\n",
      "brasseries: 0-50\n",
      "brazilian: 0-50\n",
      "breakfast_brunch: 0-50\n",
      "breakfast_brunch: 50-100\n",
      "breakfast_brunch: 100-150\n",
      "breakfast_brunch: 150-200\n",
      "british: 0-50\n",
      "buffets: 0-50\n",
      "burgers: 0-50\n",
      "burgers: 50-100\n",
      "burgers: 100-150\n",
      "burgers: 150-200\n",
      "burmese: 0-50\n",
      "cafes: 0-50\n",
      "cafes: 50-100\n",
      "cafes: 100-150\n",
      "cafes: 150-200\n",
      "cajun: 0-50\n",
      "cambodian: 0-50\n",
      "caribbean: 0-50\n",
      "cheesesteaks: 0-50\n",
      "chicken_wings: 0-50\n",
      "chicken_wings: 50-100\n",
      "chickenshop: 0-50\n",
      "chinese: 0-50\n",
      "chinese: 50-100\n",
      "chinese: 100-150\n",
      "chinese: 150-200\n",
      "comfortfood: 0-50\n",
      "creperies: 0-50\n",
      "delis: 0-50\n",
      "delis: 50-100\n",
      "diners: 0-50\n",
      "dinnertheater: 0-50\n",
      "dumplings: 0-50\n",
      "ethiopian: 0-50\n",
      "filipino: 0-50\n",
      "fishnchips: 0-50\n",
      "food_court: 0-50\n",
      "foodstands: 0-50\n",
      "french: 0-50\n",
      "gastropubs: 0-50\n",
      "german: 0-50\n",
      "gluten_free: 0-50\n",
      "greek: 0-50\n",
      "guamanian: 0-50\n",
      "halal: 0-50\n",
      "hawaiian: 0-50\n",
      "himalayan: 0-50\n",
      "hkcafe: 0-50\n",
      "hotdog: 0-50\n",
      "hotdogs: 0-50\n",
      "hotdogs: 50-100\n",
      "hotdogs: 100-150\n",
      "hotdogs: 150-200\n",
      "hotpot: 0-50\n",
      "hotpot: 50-100\n",
      "indonesian: 0-50\n",
      "indpak: 0-50\n",
      "indpak: 50-100\n",
      "indpak: 100-150\n",
      "international: 0-50\n",
      "irish: 0-50\n",
      "italian: 0-50\n",
      "italian: 50-100\n",
      "italian: 100-150\n",
      "italian: 150-200\n",
      "japanese: 0-50\n",
      "japanese: 50-100\n",
      "japanese: 100-150\n",
      "japanese: 150-200\n",
      "kebab: 0-50\n",
      "korean: 0-50\n",
      "korean: 50-100\n",
      "kosher: 0-50\n",
      "latin: 0-50\n",
      "malaysian: 0-50\n",
      "mediterranean: 0-50\n",
      "mediterranean: 50-100\n",
      "mexican: 0-50\n",
      "mexican: 50-100\n",
      "mideastern: 0-50\n",
      "mideastern: 50-100\n",
      "modern_european: 0-50\n",
      "mongolian: 0-50\n",
      "moroccan: 0-50\n",
      "newamerican: 0-50\n",
      "newcanadian: 0-50\n",
      "newcanadian: 50-100\n",
      "newcanadian: 100-150\n",
      "newcanadian: 150-200\n",
      "noodles: 0-50\n",
      "noodles: 50-100\n",
      "noodles: 100-150\n",
      "noodles: 150-200\n",
      "pakistani: 0-50\n",
      "panasian: 0-50\n",
      "persian: 0-50\n",
      "peruvian: 0-50\n",
      "pizza: 0-50\n",
      "pizza: 50-100\n",
      "pizza: 100-150\n",
      "pizza: 150-200\n",
      "polish: 0-50\n",
      "popuprestaurants: 0-50\n",
      "portuguese: 0-50\n",
      "poutineries: 0-50\n",
      "raw_food: 0-50\n",
      "russian: 0-50\n",
      "salad: 0-50\n",
      "salad: 50-100\n",
      "sandwiches: 0-50\n",
      "sandwiches: 50-100\n",
      "sandwiches: 100-150\n",
      "sandwiches: 150-200\n",
      "scandinavian: 0-50\n",
      "seafood: 0-50\n",
      "seafood: 50-100\n",
      "seafood: 100-150\n",
      "seafood: 150-200\n",
      "singaporean: 0-50\n",
      "soulfood: 0-50\n",
      "soup: 0-50\n",
      "soup: 50-100\n",
      "southern: 0-50\n",
      "spanish: 0-50\n",
      "srilankan: 0-50\n",
      "steak: 0-50\n",
      "sushi: 0-50\n",
      "sushi: 50-100\n",
      "sushi: 100-150\n",
      "sushi: 150-200\n",
      "syrian: 0-50\n",
      "taiwanese: 0-50\n",
      "taiwanese: 50-100\n",
      "tapas: 0-50\n",
      "tapasmallplates: 0-50\n",
      "tex-mex: 0-50\n",
      "thai: 0-50\n",
      "thai: 50-100\n",
      "tradamerican: 0-50\n",
      "tradamerican: 50-100\n",
      "turkish: 0-50\n",
      "ukrainian: 0-50\n",
      "vegan: 0-50\n",
      "vegetarian: 0-50\n",
      "vegetarian: 50-100\n",
      "vietnamese: 0-50\n",
      "vietnamese: 50-100\n",
      "vietnamese: 100-150\n",
      "vietnamese: 150-200\n",
      "waffles: 0-50\n"
     ]
    }
   ],
   "source": [
    "import time\n",
    "\n",
    "PARAMETERS = {'term': 'restaurants',\n",
    "              'offset': 0, # start at 0\n",
    "              'limit': 50, # maximum is 50\n",
    "              'radius': 40000, # in m\n",
    "              'location': 'Vancouver, BC'}\n",
    "\n",
    "restaurants_in_vancouver = []\n",
    "\n",
    "# Cycle through categories\n",
    "for category in restaurant_aliases:\n",
    "    PARAMETERS['categories'] = category\n",
    "    # Cycle through restaurants\n",
    "    for offset_number in range(0,1000,50):\n",
    "        PARAMETERS['offset'] = offset_number\n",
    "\n",
    "        response = requests.get(url=ENDPOINT, params=PARAMETERS, headers=HEADERS)\n",
    "\n",
    "        if not response.json().get('businesses', False):\n",
    "            break\n",
    "\n",
    "        restaurants_in_vancouver.extend(response.json()['businesses'])\n",
    "\n",
    "        print(\"{}: {}-{}\".format(category, offset_number, offset_number+50))\n",
    "        \n",
    "        time.sleep(0.5) ## Don't want to get blocked by Yelp API"
   ]
  },
  {
   "cell_type": "code",
   "execution_count": 5,
   "id": "1fe23860",
   "metadata": {},
   "outputs": [
    {
     "name": "stdout",
     "output_type": "stream",
     "text": [
      "4893\n"
     ]
    }
   ],
   "source": [
    "# This number includes duplicates\n",
    "print(len(restaurants_in_vancouver))"
   ]
  },
  {
   "cell_type": "code",
   "execution_count": 7,
   "id": "148ac954",
   "metadata": {},
   "outputs": [],
   "source": [
    "restaurants_file =  open(\"vancouver_restaurants_duplicates.json\", \"w\")\n",
    "json.dump(restaurants_in_vancouver, restaurants_file, indent=6)\n",
    "restaurants_file.close()"
   ]
  },
  {
   "cell_type": "code",
   "execution_count": 8,
   "id": "4f6e8edb",
   "metadata": {},
   "outputs": [],
   "source": [
    "# Remove the duplicate entries\n",
    "res_list = [i for n, i in enumerate(restaurants_in_vancouver) if i not in restaurants_in_vancouver[n + 1:]]"
   ]
  },
  {
   "cell_type": "code",
   "execution_count": 9,
   "id": "eb814b57",
   "metadata": {},
   "outputs": [],
   "source": [
    "restaurants_file = open(\"vancouver_restaurants.json\", \"w\")\n",
    "json.dump(res_list, restaurants_file, indent=6)\n",
    "restaurants_file.close()"
   ]
  },
  {
   "cell_type": "code",
   "execution_count": 10,
   "id": "ac9e6203",
   "metadata": {},
   "outputs": [],
   "source": [
    "newlist = sorted(res_list, key=lambda k: k['name'])"
   ]
  },
  {
   "cell_type": "code",
   "execution_count": 11,
   "id": "72c98de4",
   "metadata": {},
   "outputs": [
    {
     "data": {
      "text/plain": [
       "3268"
      ]
     },
     "execution_count": 11,
     "metadata": {},
     "output_type": "execute_result"
    }
   ],
   "source": [
    "len(newlist)"
   ]
  },
  {
   "cell_type": "code",
   "execution_count": null,
   "id": "bc3b5891",
   "metadata": {},
   "outputs": [],
   "source": []
  }
 ],
 "metadata": {
  "kernelspec": {
   "display_name": "Python 3",
   "language": "python",
   "name": "python3"
  },
  "language_info": {
   "codemirror_mode": {
    "name": "ipython",
    "version": 3
   },
   "file_extension": ".py",
   "mimetype": "text/x-python",
   "name": "python",
   "nbconvert_exporter": "python",
   "pygments_lexer": "ipython3",
   "version": "3.8.8"
  }
 },
 "nbformat": 4,
 "nbformat_minor": 5
}
